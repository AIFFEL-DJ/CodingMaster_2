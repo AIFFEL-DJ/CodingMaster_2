{
 "cells": [
  {
   "attachments": {
    "image.png": {
     "image/png": "[encoded data removed]"
    }
   },
   "cell_type": "markdown",
   "id": "judicial-token",
   "metadata": {},
   "source": [
    "1991번 트리순회 \n",
    "\n",
    "이진 트리를 입력받아 전위 순회(preorder traversal), 중위 순회(inorder traversal), 후위 순회(postorder traversal)한 결과를 출력하는 프로그램을 작성하시오.\n",
    "![image.png](attachment:image.png)\n",
    "예를 들어 위와 같은 이진 트리가 입력되면,\n",
    "\n",
    "* 전위 순회한 결과 : ABDCEFG // (루트) (왼쪽 자식) (오른쪽 자식)\n",
    "* 중위 순회한 결과 : DBAECFG // (왼쪽 자식) (루트) (오른쪽 자식)\n",
    "* 후위 순회한 결과 : DBEGFCA // (왼쪽 자식) (오른쪽 자식) (루트)\n",
    "<br>\n",
    "입력: 첫째 줄에는 이진 트리의 노드의 개수 N(1≤N≤26)이 주어진다. 둘째 줄부터 N개의 줄에 걸쳐 각 노드와 그의 왼쪽 자식 노드, 오른쪽 자식 노드가 주어진다. 노드의 이름은 A부터 차례대로 영문자 대문자로 매겨지며, 항상 A가 루트 노드가 된다. 자식 노드가 없는 경우에는 .으로 표현된다. <br>\n",
    "출력: 첫째 줄에 전위 순회, 둘째 줄에 중위 순회, 셋째 줄에 후위 순회한 결과를 출력한다. 각 줄에 N개의 알파벳을 공백 없이 출력하면 된다.<br>\n",
    "\n"
   ]
  },
  {
   "cell_type": "code",
   "execution_count": 54,
   "id": "charitable-jonathan",
   "metadata": {
    "scrolled": true
   },
   "outputs": [
    {
     "name": "stdout",
     "output_type": "stream",
     "text": [
      "7\n"
     ]
    }
   ],
   "source": [
    "n_nodes = int(input())"
   ]
  },
  {
   "cell_type": "markdown",
   "id": "wound-condition",
   "metadata": {},
   "source": [
    "1. case문 없는 python - https://www.bangseongbeom.com/python-switch-case.html\n",
    "2. 여러 케이스 고려되면 if 대신 dict 사용 in python - https://hangjo-o.tistory.com/43(해당 문제를 dict로 푼 블로그)\n",
    "3. 그냥 리스트 쓰기 - 너무 비효율적..이다는 느낌? "
   ]
  },
  {
   "cell_type": "code",
   "execution_count": 55,
   "id": "domestic-diagnosis",
   "metadata": {},
   "outputs": [
    {
     "name": "stdout",
     "output_type": "stream",
     "text": [
      "A B C\n",
      "B D .\n",
      "C E F\n",
      "E . .\n",
      "F . G\n",
      "D . .\n",
      "G . .\n"
     ]
    }
   ],
   "source": [
    "nodes_dict = {}\n",
    "\n",
    "for n in range(n_nodes):\n",
    "    parent, l_child, r_child = input().split()\n",
    "    nodes_dict[parent] = {'left': l_child, 'right': r_child}\n",
    "    if n == 0:\n",
    "        h_parent = parent\n",
    "#         print(h_parent)"
   ]
  },
  {
   "cell_type": "code",
   "execution_count": 56,
   "id": "phantom-complexity",
   "metadata": {},
   "outputs": [
    {
     "data": {
      "text/plain": [
       "{'A': {'left': 'B', 'right': 'C'},\n",
       " 'B': {'left': 'D', 'right': '.'},\n",
       " 'C': {'left': 'E', 'right': 'F'},\n",
       " 'E': {'left': '.', 'right': '.'},\n",
       " 'F': {'left': '.', 'right': 'G'},\n",
       " 'D': {'left': '.', 'right': '.'},\n",
       " 'G': {'left': '.', 'right': '.'}}"
      ]
     },
     "execution_count": 56,
     "metadata": {},
     "output_type": "execute_result"
    }
   ],
   "source": [
    "nodes_dict"
   ]
  },
  {
   "cell_type": "code",
   "execution_count": 57,
   "id": "occasional-linux",
   "metadata": {
    "scrolled": false
   },
   "outputs": [
    {
     "name": "stdout",
     "output_type": "stream",
     "text": [
      "0 A {'left': 'B', 'right': 'C'}\n",
      "1 B {'left': 'D', 'right': '.'}\n",
      "2 C {'left': 'E', 'right': 'F'}\n",
      "3 E {'left': '.', 'right': '.'}\n",
      "4 F {'left': '.', 'right': 'G'}\n",
      "5 D {'left': '.', 'right': '.'}\n",
      "6 G {'left': '.', 'right': '.'}\n"
     ]
    }
   ],
   "source": [
    "for idx, (k, v) in enumerate(nodes_dict.items()):\n",
    "    print(idx, k, v)"
   ]
  },
  {
   "cell_type": "code",
   "execution_count": 58,
   "id": "settled-interpretation",
   "metadata": {
    "scrolled": false
   },
   "outputs": [
    {
     "name": "stdout",
     "output_type": "stream",
     "text": [
      "{'left': 'B', 'right': 'C'}\n",
      "{'left': 'D', 'right': '.'}\n",
      "{'left': 'E', 'right': 'F'}\n",
      "{'left': '.', 'right': '.'}\n",
      "{'left': '.', 'right': 'G'}\n",
      "{'left': '.', 'right': '.'}\n",
      "{'left': '.', 'right': '.'}\n",
      "<class 'str'>\n"
     ]
    }
   ],
   "source": [
    "for idx in nodes_dict:\n",
    "    print(nodes_dict[idx])\n",
    "print(type(idx))"
   ]
  },
  {
   "cell_type": "code",
   "execution_count": 91,
   "id": "liberal-flexibility",
   "metadata": {},
   "outputs": [
    {
     "data": {
      "text/plain": [
       "'A'"
      ]
     },
     "execution_count": 91,
     "metadata": {},
     "output_type": "execute_result"
    }
   ],
   "source": [
    "h_parent"
   ]
  },
  {
   "cell_type": "code",
   "execution_count": 75,
   "id": "dental-award",
   "metadata": {},
   "outputs": [],
   "source": [
    "def preorder(node): # 처음엔 최상위 부모 노드 \n",
    "    print(node, end='') # end='' 개행 문자 제거 \n",
    "    if nodes_dict[node]['left'] != '.':\n",
    "        preorder(nodes_dict[node]['left'])\n",
    "    if nodes_dict[node]['right'] != '.':\n",
    "        preorder(nodes_dict[node]['right'])"
   ]
  },
  {
   "cell_type": "code",
   "execution_count": 76,
   "id": "mechanical-unknown",
   "metadata": {
    "scrolled": true
   },
   "outputs": [
    {
     "name": "stdout",
     "output_type": "stream",
     "text": [
      "ABDCEFG"
     ]
    }
   ],
   "source": [
    "# 전위 순회한 결과 : ABDCEFG // (루트) (왼쪽 자식) (오른쪽 자식)\n",
    "preorder(h_parent)"
   ]
  },
  {
   "cell_type": "code",
   "execution_count": 103,
   "id": "ongoing-screening",
   "metadata": {},
   "outputs": [],
   "source": [
    "def inorder(node):\n",
    "    if nodes_dict[node]['left'] != '.': # 왼쪽 자식에서 부모 노드까지 \n",
    "        inorder(nodes_dict[node]['left']) \n",
    "#         print()\n",
    "#         print(\"현재 node:\", node)\n",
    "#         print()\n",
    "    print(node, end=\"\")\n",
    "    if nodes_dict[node]['right'] != '.':\n",
    "        inorder(nodes_dict[node]['right'])    "
   ]
  },
  {
   "cell_type": "code",
   "execution_count": 104,
   "id": "unusual-potential",
   "metadata": {},
   "outputs": [
    {
     "name": "stdout",
     "output_type": "stream",
     "text": [
      "DBAECFG"
     ]
    }
   ],
   "source": [
    "# 중위 순회한 결과 : DBAECFG // (왼쪽 자식) (루트) (오른쪽 자식)\n",
    "inorder(h_parent)"
   ]
  },
  {
   "cell_type": "code",
   "execution_count": 105,
   "id": "oriented-knight",
   "metadata": {},
   "outputs": [],
   "source": [
    "def postorder(node):\n",
    "    if nodes_dict[node]['left'] != '.': # 왼쪽 자식에서 부모 노드까지 \n",
    "        postorder(nodes_dict[node]['left']) \n",
    "    if nodes_dict[node]['right'] != '.':\n",
    "        postorder(nodes_dict[node]['right'])    \n",
    "    print(node, end=\"\")"
   ]
  },
  {
   "cell_type": "code",
   "execution_count": 106,
   "id": "identical-madonna",
   "metadata": {},
   "outputs": [
    {
     "name": "stdout",
     "output_type": "stream",
     "text": [
      "DBEGFCA"
     ]
    }
   ],
   "source": [
    "# 후위 순회한 결과 : DBEGFCA // (왼쪽 자식) (오른쪽 자식) (루트)\n",
    "postorder(h_parent)"
   ]
  }
 ],
 "metadata": {
  "kernelspec": {
   "display_name": "aiffel",
   "language": "python",
   "name": "aiffel"
  },
  "language_info": {
   "codemirror_mode": {
    "name": "ipython",
    "version": 3
   },
   "file_extension": ".py",
   "mimetype": "text/x-python",
   "name": "python",
   "nbconvert_exporter": "python",
   "pygments_lexer": "ipython3",
   "version": "3.7.10"
  },
  "toc": {
   "base_numbering": 1,
   "nav_menu": {},
   "number_sections": true,
   "sideBar": true,
   "skip_h1_title": false,
   "title_cell": "Table of Contents",
   "title_sidebar": "Contents",
   "toc_cell": false,
   "toc_position": {},
   "toc_section_display": true,
   "toc_window_display": false
  }
 },
 "nbformat": 4,
 "nbformat_minor": 5
}
