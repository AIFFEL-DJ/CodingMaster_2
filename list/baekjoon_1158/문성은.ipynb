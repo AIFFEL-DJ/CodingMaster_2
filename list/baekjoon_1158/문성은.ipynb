{
 "cells": [
  {
   "cell_type": "markdown",
   "id": "indie-softball",
   "metadata": {},
   "source": [
    "# 문제 9316 요세푸스 순열 문제\n",
    "\n",
    "1번부터 N번까지 N명의 사람이 원을 이루면서 앉아있고, 양의 정수 K(≤ N)가 주어진다. 이제 순서대로 K번째 사람을 제거한다. 한 사람이 제거되면 남은 사람들로 이루어진 원을 따라 이 과정을 계속해 나간다. 이 과정은 N명의 사람이 모두 제거될 때까지 계속된다. 원에서 사람들이 제거되는 순서를 (N, K)-요세푸스 순열이라고 한다. 예를 들어 (7, 3)-요세푸스 순열은 <3, 6, 2, 7, 5, 1, 4>이다.\n",
    "\n",
    "N과 K가 주어지면 (N, K)-요세푸스 순열을 구하는 프로그램을 작성하시오."
   ]
  },
  {
   "cell_type": "markdown",
   "id": "grand-platform",
   "metadata": {},
   "source": [
    "* 예제 입력 1: 7 3\n",
    "\n",
    "* 예제 출력 1: <3, 6, 2, 7, 5, 1, 4>\n",
    "\n",
    "첫째 줄에 N과 K가 빈 칸을 사이에 두고 순서대로 주어진다. (1 ≤ K ≤ N ≤ 5,000)"
   ]
  },
  {
   "cell_type": "code",
   "execution_count": 142,
   "id": "meaningful-mechanism",
   "metadata": {},
   "outputs": [
    {
     "name": "stdout",
     "output_type": "stream",
     "text": [
      "8 4\n",
      "<4, 8, 5, 2, 1, 3, 6, 7>\n"
     ]
    }
   ],
   "source": [
    "def solution(cnt_, order_):\n",
    "    # cnt_: 전체 명수 \n",
    "    # order_: 삭제되는 순서 \n",
    "    answer = []\n",
    "    circle_ = list(range(1, cnt_ + 1))\n",
    "\n",
    "    while len(circle_)!=1:\n",
    "        idx = order_-1 # 3번째 자리의 인덱스: 2\n",
    "        circle_ = circle_[idx:] + circle_[:idx]\n",
    "        answer.append(str(circle_[0]))\n",
    "#         print('재정렬:', circle_)\n",
    "        circle_.pop(0)\n",
    "        \n",
    "        if len(circle_) == 2:\n",
    "            answer.append(str(circle_[0]))\n",
    "            circle_.pop(0)\n",
    "            answer.append(str(circle_[0]))\n",
    "#         print(circle_)\n",
    "    return answer\n",
    "\n",
    "input_lst = input().split()\n",
    "sol_lst = solution(int(input_lst[0]), int(input_lst[1]))\n",
    "print(\"<%s>\" %(\", \".join(sol_lst)))"
   ]
  },
  {
   "cell_type": "markdown",
   "id": "diagnostic-italian",
   "metadata": {},
   "source": [
    "# 제출 결과"
   ]
  }
 ],
 "metadata": {
  "kernelspec": {
   "display_name": "Python 3",
   "language": "python",
   "name": "python3"
  },
  "language_info": {
   "codemirror_mode": {
    "name": "ipython",
    "version": 3
   },
   "file_extension": ".py",
   "mimetype": "text/x-python",
   "name": "python",
   "nbconvert_exporter": "python",
   "pygments_lexer": "ipython3",
   "version": "3.7.10"
  },
  "toc": {
   "base_numbering": 1,
   "nav_menu": {},
   "number_sections": true,
   "sideBar": true,
   "skip_h1_title": false,
   "title_cell": "Table of Contents",
   "title_sidebar": "Contents",
   "toc_cell": false,
   "toc_position": {
    "height": "calc(100% - 180px)",
    "left": "10px",
    "top": "150px",
    "width": "183.797px"
   },
   "toc_section_display": true,
   "toc_window_display": false
  }
 },
 "nbformat": 4,
 "nbformat_minor": 5
}
