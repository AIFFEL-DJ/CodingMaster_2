{
 "cells": [
  {
   "cell_type": "markdown",
   "id": "obvious-juvenile",
   "metadata": {},
   "source": [
    "# H-Index\n",
    "- source : [programmers](https://programmers.co.kr/learn/courses/30/lessons/42747)\n",
    "- level : 2\n",
    "- type : 정렬\n",
    "\n",
    "## 문제 설명 \n",
    "- H-Index는 과학자의 생산성과 영향력을 나타내는 지표입니다. 어느 과학자의 H-Index를 나타내는 값인 h를 구하려고 합니다. 위키백과1에 따르면, H-Index는 다음과 같이 구합니다.\n",
    "\n",
    "- 어떤 과학자가 발표한 논문 n편 중, h번 이상 인용된 논문이 h편 이상이고 나머지 논문이 h번 이하 인용되었다면 h의 최댓값이 이 과학자의 H-Index입니다.\n",
    "\n",
    "- 어떤 과학자가 발표한 논문의 인용 횟수를 담은 배열 citations가 매개변수로 주어질 때, 이 과학자의 H-Index를 return 하도록 solution 함수를 작성해주세요.\n",
    "\n",
    "\n",
    "### 제한 사항\n",
    "- 과학자가 발표한 논문의 수는 1편 이상 1,000편 이하입니다.\n",
    "- 논문별 인용 횟수는 0회 이상 10,000회 이하입니다."
   ]
  },
  {
   "cell_type": "code",
   "execution_count": 21,
   "id": "colonial-engineering",
   "metadata": {},
   "outputs": [],
   "source": [
    "def solution(citations):\n",
    "    # h의 최댓값은 citations의 최댓값이기 때문에 최댓값으로 반복문을 돈다. \n",
    "    answer = {}   # h와 h이상 인용된 논문 갯수를 담을 dictionary\n",
    "    for i in range(max(citations)+1): \n",
    "        answer[i] = 0\n",
    "        for j in citations:\n",
    "            if i <= j :\n",
    "                answer[i] += 1\n",
    "    \n",
    "    # answer의 key, values를 비교해 같을 경우 그 수가 h가 된다.\n",
    "    h_index = 0\n",
    "    for ci, count in zip(answer.keys(), answer.values()):\n",
    "        if ci <= count:\n",
    "            h_index = ci\n",
    "        \n",
    "    return h_index"
   ]
  },
  {
   "cell_type": "code",
   "execution_count": 20,
   "id": "built-native",
   "metadata": {},
   "outputs": [
    {
     "name": "stdout",
     "output_type": "stream",
     "text": [
      "{0: 5, 1: 4, 2: 3, 3: 3, 4: 2, 5: 2, 6: 1}\n",
      "0 5\n",
      "1 4\n",
      "2 3\n",
      "3 3\n",
      "4 2\n",
      "5 2\n",
      "6 1\n"
     ]
    },
    {
     "data": {
      "text/plain": [
       "3"
      ]
     },
     "execution_count": 20,
     "metadata": {},
     "output_type": "execute_result"
    }
   ],
   "source": [
    "solution([3, 0, 6, 1, 5])"
   ]
  }
 ],
 "metadata": {
  "kernelspec": {
   "display_name": "Python 3",
   "language": "python",
   "name": "python3"
  },
  "language_info": {
   "codemirror_mode": {
    "name": "ipython",
    "version": 3
   },
   "file_extension": ".py",
   "mimetype": "text/x-python",
   "name": "python",
   "nbconvert_exporter": "python",
   "pygments_lexer": "ipython3",
   "version": "3.7.9"
  }
 },
 "nbformat": 4,
 "nbformat_minor": 5
}
